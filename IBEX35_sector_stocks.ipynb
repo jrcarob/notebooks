{
  "nbformat": 4,
  "nbformat_minor": 0,
  "metadata": {
    "colab": {
      "name": "IBEX35-sector-stocks.ipynb",
      "provenance": [],
      "authorship_tag": "ABX9TyOhfdNPKHmjl3HITkkpIAka",
      "include_colab_link": true
    },
    "kernelspec": {
      "name": "python3",
      "display_name": "Python 3"
    }
  },
  "cells": [
    {
      "cell_type": "markdown",
      "metadata": {
        "id": "view-in-github",
        "colab_type": "text"
      },
      "source": [
        "<a href=\"https://colab.research.google.com/github/jrcarob/notebooks/blob/master/IBEX35_sector_stocks.ipynb\" target=\"_parent\"><img src=\"https://colab.research.google.com/assets/colab-badge.svg\" alt=\"Open In Colab\"/></a>"
      ]
    },
    {
      "cell_type": "code",
      "metadata": {
        "id": "RSzgJUhp05zG",
        "colab_type": "code",
        "colab": {}
      },
      "source": [
        "# https://github.com/laresbernardo/notebooks/blob/master/Comparing_US_Sectors_Stocks.ipynb\n",
        "\n",
        "# devtools::install_github(\"laresbernardo/lares\")\n",
        "library(lares)\n",
        "library(dplyr)\n",
        "library(ggplot2)"
      ],
      "execution_count": null,
      "outputs": []
    },
    {
      "cell_type": "code",
      "metadata": {
        "id": "klAm_XUC1AFZ",
        "colab_type": "code",
        "colab": {}
      },
      "source": [
        "symbols <-c(\"^IBEX\", \"ANA.MC\", \"ACX.MC\", \"ACS.MC\", \"AENA.MC\", \"ALM.MC\", \"AMS.MC\", \"MTS.MC\")\n",
        "from <- \"2020-02-19\""
      ],
      "execution_count": null,
      "outputs": []
    },
    {
      "cell_type": "code",
      "metadata": {
        "id": "O3VNYPHB1DK_",
        "colab_type": "code",
        "colab": {}
      },
      "source": [
        "spain_sectors <- stocks_hist(symbols, from = from) %>%\n",
        "  group_by(Symbol) %>%\n",
        "  arrange(desc(Date)) %>%\n",
        "  mutate(\n",
        "    norm_close = Value / last(Value),\n",
        "    type = if_else(Symbol == \"IBEX\", \"Market\", \"Sector\"),\n",
        "    sector = case_when(\n",
        "      Symbol == \"^IBEX\" ~ \"IBEX35\",\n",
        "      Symbol == \"ANA.MC\" ~ \"Industrial\",\n",
        "      Symbol == \"ACX.MC\" ~ \"Industrial\",\n",
        "      Symbol == \"ACS.MC\" ~ \"Industrial\",\n",
        "      Symbol == \"AENA.MC\" ~ \"Transport\",\n",
        "      Symbol == \"ALM.MC\" ~ \"Health\",\n",
        "      Symbol == \"AMS.MC\" ~ \"Services\",\n",
        "      Symbol == \"MTS.MC\" ~ \"Industrial\",\n",
        "      TRUE ~ \"Other\")) %>% \n",
        "  ungroup()\n"
      ],
      "execution_count": null,
      "outputs": []
    },
    {
      "cell_type": "code",
      "metadata": {
        "id": "bJdt69ok1Ivo",
        "colab_type": "code",
        "colab": {}
      },
      "source": [
        "cols <- names(lares::lares_pal()$palette)\n",
        "\n",
        "ord <- spain_sectors %>% filter(Date == max(Date)) %>% \n",
        "  arrange(desc(norm_close)) %>% \n",
        "  mutate(sector = autoline(sector, 1)) %>% .$sector"
      ],
      "execution_count": null,
      "outputs": []
    },
    {
      "cell_type": "code",
      "metadata": {
        "id": "kHqmIOt81Ji4",
        "colab_type": "code",
        "colab": {}
      },
      "source": [
        "spain_sectors %>%\n",
        "  mutate(\n",
        "    sector = autoline(sector, 1),\n",
        "    sector = factor(sector, levels = unique(ord))) %>%\n",
        "  ggplot(aes(x = Date, y = norm_close, group = Symbol, colour = type)) +\n",
        "  geom_rect(aes(xmin = min(Date), xmax = max(Date), ymin = -Inf, ymax = Inf), \n",
        "            fill = if_else(spain_sectors$type == \"Market\", cols[3], NULL), colour = \"white\") +\n",
        "  geom_hline(yintercept = 1, linetype = \"dashed\", colour = \"grey80\") +\n",
        "  geom_line(key_glyph = \"timeseries\") +\n",
        "  facet_wrap(.~sector) +\n",
        "  scale_colour_manual(values = cols[c(1, 4)]) +\n",
        "  scale_y_percent() +\n",
        "  labs(\n",
        "    title = \"IBEX-35 Sector Impact of Covid-19\",\n",
        "    subtitle = glued(\"Relative to {from}\"),\n",
        "    x = NULL, y = NULL, colour = NULL) +\n",
        "  theme(axis.text.x = element_text(angle = 45, hjust = 1)) +\n",
        "  theme_lares(legend = \"top\")"
      ],
      "execution_count": null,
      "outputs": []
    }
  ]
}